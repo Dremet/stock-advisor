{
 "metadata": {
  "language_info": {
   "codemirror_mode": {
    "name": "ipython",
    "version": 3
   },
   "file_extension": ".py",
   "mimetype": "text/x-python",
   "name": "python",
   "nbconvert_exporter": "python",
   "pygments_lexer": "ipython3",
   "version": "3.8.6"
  },
  "orig_nbformat": 2,
  "kernelspec": {
   "name": "python3",
   "display_name": "Python 3.8.6  ('venv': venv)",
   "metadata": {
    "interpreter": {
     "hash": "91b68c6669bd8f99e35301f864b52a6f2aec4b41ea3a318f554d1b61534c9fda"
    }
   }
  }
 },
 "nbformat": 4,
 "nbformat_minor": 2,
 "cells": [
  {
   "cell_type": "code",
   "execution_count": 19,
   "metadata": {},
   "outputs": [],
   "source": [
    "import requests\n",
    "import pandas\n",
    "import sqlite3\n",
    "from bs4 import BeautifulSoup\n",
    "from datetime import datetime"
   ]
  },
  {
   "cell_type": "code",
   "execution_count": 20,
   "metadata": {},
   "outputs": [],
   "source": [
    "urls={\n",
    "    \"munichre\":\"https://www.onvista.de/aktien/Muenchener-Rueck-Aktie-DE0008430026\",\n",
    "    \"frosta\":\"https://www.onvista.de/aktien/FROSTA-AG-Aktie-DE0006069008\",\n",
    "    \"apple\":\"https://www.onvista.de/aktien/Apple-Aktie-US0378331005\",\n",
    "    \"strabag\":\"https://www.onvista.de/aktien/STRABAG-SE-Aktie-AT000000STR1\",\n",
    "    \"3m\":\"https://www.onvista.de/aktien/3M-Aktie-US88579Y1010\",\n",
    "    \"biontech\":\"https://www.onvista.de/aktien/BIONTECH-SE-Aktie-US09075V1026\",\n",
    "    \"fortescue_metals\":\"https://www.onvista.de/aktien/FORTESCUE-METALS-GROUP-LTD-Aktie-AU000000FMG4\",\n",
    "    \"nexgen_energy\":\"https://www.onvista.de/aktien/NEXGEN-ENERGY-Aktie-CA65340P1062\",\n",
    "    \"uranium_energy\":\"https://www.onvista.de/aktien/URANIUM-ENERGY-CORP-Aktie-US9168961038\",\n",
    "    \"blue_sky_uranium\":\"https://www.onvista.de/aktien/BLUE-SKY-URANIUM-Aktie-CA0960495079\",\n",
    "    \"sto\":\"https://www.onvista.de/aktien/STO-SE-CO-KGAA-Aktie-DE0007274136\",\n",
    "    \"sfc_energy\":\"https://www.onvista.de/aktien/SFC-ENERGY-AG-Aktie-DE0007568578\",\n",
    "    \"thor_industries\":\"https://www.onvista.de/aktien/THOR-INDUSTRIES-INC-Aktie-US8851601018\"\n",
    "}"
   ]
  },
  {
   "cell_type": "code",
   "execution_count": 21,
   "metadata": {},
   "outputs": [],
   "source": [
    "prices = {}\n",
    "\n",
    "con=sqlite3.connect('stock_prices.db')\n",
    "cur=con.cursor()\n"
   ]
  },
  {
   "cell_type": "code",
   "execution_count": 25,
   "metadata": {},
   "outputs": [
    {
     "output_type": "stream",
     "name": "stdout",
     "text": [
      "2021-10-02 17:41:54\n",
      "2021-10-02 17:41:54\n",
      "2021-10-02 17:41:54\n",
      "2021-10-02 17:41:55\n",
      "2021-10-02 17:41:55\n",
      "2021-10-02 17:41:55\n",
      "2021-10-02 17:41:59\n",
      "2021-10-02 17:42:03\n",
      "2021-10-02 17:42:03\n",
      "2021-10-02 17:42:03\n",
      "2021-10-02 17:42:04\n",
      "2021-10-02 17:42:04\n",
      "2021-10-02 17:42:05\n"
     ]
    }
   ],
   "source": [
    "for name, url in urls.items():\n",
    "    html = requests.get(url).content\n",
    "    soup = BeautifulSoup(html)\n",
    "    price = soup.findAll(\"meta\", {\"property\":\"schema:price\"})[0]['content']\n",
    "    prices[name] = price\n",
    "    print(datetime.now().strftime('%Y-%m-%d %H:%M:%S'))\n",
    "    cur.execute(f\"INSERT INTO stock_prices(datetime, stock, price) VALUES ('{datetime.now().strftime('%Y-%m-%d %H:%M:%S')}','{name}',{price})\")\n",
    "\n"
   ]
  },
  {
   "cell_type": "code",
   "execution_count": 26,
   "metadata": {},
   "outputs": [
    {
     "output_type": "stream",
     "name": "stdout",
     "text": [
      "{'munichre': {...}, 'frosta': {...}, 'apple': {...}, 'strabag': {...}, '3m': {...}, 'biontech': {...}, 'fortescue_metals': {...}, 'nexgen_energy': {...}, 'uranium_energy': {...}, 'blue_sky_uranium': {...}, 'sto': {...}, 'sfc_energy': {...}, 'thor_industries': {...}}\n"
     ]
    }
   ],
   "source": [
    "con.commit()\n",
    "con.close()\n",
    "print(prices)"
   ]
  },
  {
   "cell_type": "code",
   "execution_count": 13,
   "metadata": {},
   "outputs": [],
   "source": []
  }
 ]
}